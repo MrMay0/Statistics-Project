{
 "cells": [
  {
   "cell_type": "markdown",
   "id": "528c4397",
   "metadata": {},
   "source": [
    "# MDI220\n",
    "# Statistiques\n",
    "\n",
    "# Mini-project "
   ]
  },
  {
   "cell_type": "markdown",
   "id": "9f9f9769",
   "metadata": {},
   "source": [
    "Ce mini-projet est pour le cours Statistiques MDI220.\n",
    "\n",
    "Vous devez remplir ce notebook et le uploader sur eCampus, **avec les figures**. S'il vous plaît, assurez-vous que le notebook s'execute **sans erreurs**.\n",
    "\n",
    "Vous pouvez accomplir ce projet en français ou en anglais (votre préférence).\n",
    "\n",
    "Vous pouvez travailler en equipe, mais le notebook final, compris le texte et le code, doit être **votre propre**. Plagiat entre les étudiants est strictement interdit.\n",
    "\n",
    "S'il vous plaît, donner **la réponse concise** et **le code concis**, avec des commentaires ou approprié.\n",
    "\n",
    "(Re)nommer le fichier de ce notebook dans le format suivant : \"NOM_Prenom_projet_MDI220.ipynb\"."
   ]
  },
  {
   "cell_type": "markdown",
   "id": "ca534555",
   "metadata": {},
   "source": [
    "## Votre nom: Ulysse Ristorcelli"
   ]
  },
  {
   "cell_type": "markdown",
   "id": "986d36a8",
   "metadata": {},
   "source": [
    "## Imports"
   ]
  },
  {
   "cell_type": "markdown",
   "id": "f30a6df8",
   "metadata": {},
   "source": [
    "S'il vous plaît, **n'importez pas** d'autres librairies."
   ]
  },
  {
   "cell_type": "code",
   "execution_count": 1,
   "id": "d453a573",
   "metadata": {},
   "outputs": [],
   "source": [
    "import numpy as np\n",
    "import pandas as pd\n",
    "import matplotlib.pyplot as plt"
   ]
  },
  {
   "cell_type": "code",
   "execution_count": 2,
   "id": "18e10613",
   "metadata": {},
   "outputs": [],
   "source": [
    "from scipy.stats import norm, chi2, gaussian_kde"
   ]
  },
  {
   "cell_type": "code",
   "execution_count": 3,
   "id": "2e543f41",
   "metadata": {},
   "outputs": [],
   "source": [
    "import seaborn as sns"
   ]
  },
  {
   "cell_type": "markdown",
   "id": "150efe52",
   "metadata": {},
   "source": [
    "## Données"
   ]
  },
  {
   "cell_type": "markdown",
   "id": "a447bd21",
   "metadata": {},
   "source": [
    "Nous considérons les données de **consomation quotidienne d'electricité** (en MW) en France dans le période 2013-2023. Les données sont accessibles sur **eCampus**.\n",
    "\n",
    "Les informationnes détaillées sur les données sont accessible [ici](https://www.data.gouv.fr/fr/datasets/consommation-quotidienne-brute-regionale/)."
   ]
  },
  {
   "cell_type": "code",
   "execution_count": 4,
   "id": "a5379d2c",
   "metadata": {},
   "outputs": [],
   "source": [
    "# do not modify this cell\n",
    "filename = 'power_consumption.csv'\n",
    "df = pd.read_csv(filename)"
   ]
  },
  {
   "cell_type": "code",
   "execution_count": 5,
   "id": "c67ea70e",
   "metadata": {},
   "outputs": [
    {
     "data": {
      "text/html": [
       "<div>\n",
       "<style scoped>\n",
       "    .dataframe tbody tr th:only-of-type {\n",
       "        vertical-align: middle;\n",
       "    }\n",
       "\n",
       "    .dataframe tbody tr th {\n",
       "        vertical-align: top;\n",
       "    }\n",
       "\n",
       "    .dataframe thead th {\n",
       "        text-align: right;\n",
       "    }\n",
       "</style>\n",
       "<table border=\"1\" class=\"dataframe\">\n",
       "  <thead>\n",
       "    <tr style=\"text-align: right;\">\n",
       "      <th></th>\n",
       "      <th>region</th>\n",
       "      <th>date</th>\n",
       "      <th>consumption</th>\n",
       "    </tr>\n",
       "  </thead>\n",
       "  <tbody>\n",
       "    <tr>\n",
       "      <th>0</th>\n",
       "      <td>Auvergne-Rhône-Alpes</td>\n",
       "      <td>2013-01-01</td>\n",
       "      <td>7560</td>\n",
       "    </tr>\n",
       "    <tr>\n",
       "      <th>1</th>\n",
       "      <td>Auvergne-Rhône-Alpes</td>\n",
       "      <td>2013-01-02</td>\n",
       "      <td>8700</td>\n",
       "    </tr>\n",
       "    <tr>\n",
       "      <th>2</th>\n",
       "      <td>Auvergne-Rhône-Alpes</td>\n",
       "      <td>2013-01-03</td>\n",
       "      <td>9367</td>\n",
       "    </tr>\n",
       "    <tr>\n",
       "      <th>3</th>\n",
       "      <td>Auvergne-Rhône-Alpes</td>\n",
       "      <td>2013-01-04</td>\n",
       "      <td>9133</td>\n",
       "    </tr>\n",
       "    <tr>\n",
       "      <th>4</th>\n",
       "      <td>Auvergne-Rhône-Alpes</td>\n",
       "      <td>2013-01-05</td>\n",
       "      <td>8283</td>\n",
       "    </tr>\n",
       "  </tbody>\n",
       "</table>\n",
       "</div>"
      ],
      "text/plain": [
       "                 region        date  consumption\n",
       "0  Auvergne-Rhône-Alpes  2013-01-01         7560\n",
       "1  Auvergne-Rhône-Alpes  2013-01-02         8700\n",
       "2  Auvergne-Rhône-Alpes  2013-01-03         9367\n",
       "3  Auvergne-Rhône-Alpes  2013-01-04         9133\n",
       "4  Auvergne-Rhône-Alpes  2013-01-05         8283"
      ]
     },
     "execution_count": 5,
     "metadata": {},
     "output_type": "execute_result"
    }
   ],
   "source": [
    "df.head()"
   ]
  },
  {
   "cell_type": "code",
   "execution_count": 6,
   "id": "9e299cd9",
   "metadata": {},
   "outputs": [],
   "source": [
    "regions = list(df.region.unique())"
   ]
  },
  {
   "cell_type": "code",
   "execution_count": 7,
   "id": "907ac06f",
   "metadata": {},
   "outputs": [
    {
     "data": {
      "text/plain": [
       "['Auvergne-Rhône-Alpes',\n",
       " 'Bourgogne-Franche-Comté',\n",
       " 'Bretagne',\n",
       " 'Centre-Val de Loire',\n",
       " 'Grand Est',\n",
       " 'Hauts-de-France',\n",
       " 'Normandie',\n",
       " 'Nouvelle-Aquitaine',\n",
       " 'Occitanie',\n",
       " 'Pays de la Loire',\n",
       " \"Provence-Alpes-Côte d'Azur\",\n",
       " 'Île-de-France']"
      ]
     },
     "execution_count": 7,
     "metadata": {},
     "output_type": "execute_result"
    }
   ],
   "source": [
    "regions"
   ]
  },
  {
   "cell_type": "code",
   "execution_count": 8,
   "id": "2e2704da",
   "metadata": {},
   "outputs": [
    {
     "data": {
      "text/html": [
       "<div>\n",
       "<style scoped>\n",
       "    .dataframe tbody tr th:only-of-type {\n",
       "        vertical-align: middle;\n",
       "    }\n",
       "\n",
       "    .dataframe tbody tr th {\n",
       "        vertical-align: top;\n",
       "    }\n",
       "\n",
       "    .dataframe thead th {\n",
       "        text-align: right;\n",
       "    }\n",
       "</style>\n",
       "<table border=\"1\" class=\"dataframe\">\n",
       "  <thead>\n",
       "    <tr style=\"text-align: right;\">\n",
       "      <th></th>\n",
       "      <th>consumption</th>\n",
       "    </tr>\n",
       "    <tr>\n",
       "      <th>region</th>\n",
       "      <th></th>\n",
       "    </tr>\n",
       "  </thead>\n",
       "  <tbody>\n",
       "    <tr>\n",
       "      <th>Auvergne-Rhône-Alpes</th>\n",
       "      <td>7495</td>\n",
       "    </tr>\n",
       "    <tr>\n",
       "      <th>Bourgogne-Franche-Comté</th>\n",
       "      <td>2416</td>\n",
       "    </tr>\n",
       "    <tr>\n",
       "      <th>Bretagne</th>\n",
       "      <td>2546</td>\n",
       "    </tr>\n",
       "    <tr>\n",
       "      <th>Centre-Val de Loire</th>\n",
       "      <td>2139</td>\n",
       "    </tr>\n",
       "    <tr>\n",
       "      <th>Grand Est</th>\n",
       "      <td>5155</td>\n",
       "    </tr>\n",
       "    <tr>\n",
       "      <th>Hauts-de-France</th>\n",
       "      <td>5726</td>\n",
       "    </tr>\n",
       "    <tr>\n",
       "      <th>Normandie</th>\n",
       "      <td>3168</td>\n",
       "    </tr>\n",
       "    <tr>\n",
       "      <th>Nouvelle-Aquitaine</th>\n",
       "      <td>4925</td>\n",
       "    </tr>\n",
       "    <tr>\n",
       "      <th>Occitanie</th>\n",
       "      <td>4266</td>\n",
       "    </tr>\n",
       "    <tr>\n",
       "      <th>Pays de la Loire</th>\n",
       "      <td>3077</td>\n",
       "    </tr>\n",
       "    <tr>\n",
       "      <th>Provence-Alpes-Côte d'Azur</th>\n",
       "      <td>4656</td>\n",
       "    </tr>\n",
       "    <tr>\n",
       "      <th>Île-de-France</th>\n",
       "      <td>8008</td>\n",
       "    </tr>\n",
       "  </tbody>\n",
       "</table>\n",
       "</div>"
      ],
      "text/plain": [
       "                            consumption\n",
       "region                                 \n",
       "Auvergne-Rhône-Alpes               7495\n",
       "Bourgogne-Franche-Comté            2416\n",
       "Bretagne                           2546\n",
       "Centre-Val de Loire                2139\n",
       "Grand Est                          5155\n",
       "Hauts-de-France                    5726\n",
       "Normandie                          3168\n",
       "Nouvelle-Aquitaine                 4925\n",
       "Occitanie                          4266\n",
       "Pays de la Loire                   3077\n",
       "Provence-Alpes-Côte d'Azur         4656\n",
       "Île-de-France                      8008"
      ]
     },
     "execution_count": 8,
     "metadata": {},
     "output_type": "execute_result"
    }
   ],
   "source": [
    "# average consumption per region\n",
    "df[[\"region\", \"consumption\"]].groupby(\"region\").mean().astype(int)"
   ]
  },
  {
   "cell_type": "code",
   "execution_count": 9,
   "id": "3ed15bbc",
   "metadata": {},
   "outputs": [
    {
     "data": {
      "text/plain": [
       "consumption    53582\n",
       "dtype: int32"
      ]
     },
     "execution_count": 9,
     "metadata": {},
     "output_type": "execute_result"
    }
   ],
   "source": [
    "# average consumption in France (MW)\n",
    "df[[\"region\", \"consumption\"]].groupby(\"region\").mean().sum().astype(int)"
   ]
  },
  {
   "cell_type": "code",
   "execution_count": 10,
   "id": "2ebdd086",
   "metadata": {},
   "outputs": [],
   "source": [
    "# selection of a region\n",
    "region = \"Bretagne\"\n",
    "df_region = df[df.region == region]"
   ]
  },
  {
   "cell_type": "code",
   "execution_count": 11,
   "id": "bbb87de5",
   "metadata": {},
   "outputs": [
    {
     "data": {
      "image/png": "[encoded data removed]",
      "text/plain": [
       "<Figure size 640x480 with 1 Axes>"
      ]
     },
     "metadata": {},
     "output_type": "display_data"
    }
   ],
   "source": [
    "# density (with kde = kernel density estimation)\n",
    "sns.kdeplot(data=df_region, x=\"consumption\", label=\"Data\", color='blue', fill=True)\n",
    "plt.title(region)\n",
    "plt.xlabel(\"Consumption (MW)\")\n",
    "plt.legend() \n",
    "plt.show()"
   ]
  },
  {
   "cell_type": "markdown",
   "id": "045ae627",
   "metadata": {},
   "source": [
    "## A. Estimation ponctuelle"
   ]
  },
  {
   "cell_type": "markdown",
   "id": "99972e6a",
   "metadata": {},
   "source": [
    "Dans l'entité du projet, consomation quotidienne d'electricité est supposée i.i.d., avec la distribution gaussienne.\n",
    "\n",
    "Nous allons utiliser les estimateurs suivants pour la moyenne et la variance, pour $n$ observations $x_1,\\ldots,x_n$ :\n",
    "$$\n",
    "\\hat \\mu = \\frac 1 n \\sum_{i=1}^n x_i\\quad \\hat{\\sigma^2} = \\frac 1 {n-1}\\sum_{i=1}^n (x_i - \\hat \\mu)^2\n",
    "$$\n",
    "L'estimateur correspondant de l'écart-type est :\n",
    "$$\n",
    "\\hat \\sigma = \\sqrt{\\hat{\\sigma^2}}\n",
    "$$\n",
    "\n",
    "Considérons la region Bretagne. \n",
    "\n",
    "1. Montrez que les estimateur pour la moyenne et la variance sont sans biais."
   ]
  },
  {
   "cell_type": "markdown",
   "id": "fc43c835",
   "metadata": {},
   "source": [
    "Votre réponse :"
   ]
  },
  {
   "cell_type": "markdown",
   "id": "259c0fed",
   "metadata": {},
   "source": [
    "2. Donnez les valeurs obtenues pour la moyen et pour la variance en utilisant ces estimateurs."
   ]
  },
  {
   "cell_type": "code",
   "execution_count": 12,
   "id": "d51c8554",
   "metadata": {},
   "outputs": [
    {
     "name": "stdout",
     "output_type": "stream",
     "text": [
      "valeur obtenue pour la moyenne:  2546.536155666579\n",
      "valeur obtenue pour la variance:  365956.0141448174\n"
     ]
    }
   ],
   "source": [
    "mean_Br = df_region[\"consumption\"].mean()\n",
    "print(\"valeur obtenue pour la moyenne: \",mean_Br)\n",
    "\n",
    "var_Br = df_region[\"consumption\"].var()\n",
    "print(\"valeur obtenue pour la variance: \", var_Br)"
   ]
  },
  {
   "cell_type": "markdown",
   "id": "d0c9e4bf",
   "metadata": {},
   "source": [
    "3. Générez les nouvelles données en utilisant le modèle gaussien avec ces estimateurs, et avec le même nombre d'observations."
   ]
  },
  {
   "cell_type": "code",
   "execution_count": 13,
   "id": "baedf3c5",
   "metadata": {},
   "outputs": [],
   "source": [
    "new_data = np.random.normal(mean_Br, np.sqrt(var_Br), df_region[\"consumption\"].count())"
   ]
  },
  {
   "cell_type": "markdown",
   "id": "87a6506c",
   "metadata": {},
   "source": [
    "4. Tracez l'estimateur à noyau de la densité  *kde* (kernel density estimate) des données réelles et des données générées sur la même figure."
   ]
  },
  {
   "cell_type": "code",
   "execution_count": 14,
   "id": "4bfd9db4",
   "metadata": {},
   "outputs": [
    {
     "data": {
      "image/png": "[encoded data removed]",
      "text/plain": [
       "<Figure size 640x480 with 1 Axes>"
      ]
     },
     "metadata": {},
     "output_type": "display_data"
    }
   ],
   "source": [
    "sns.kdeplot(data=df_region, x=\"consumption\", label=\"Data\", color='blue', fill=True)\n",
    "sns.kdeplot(data=new_data, label=\"New Data\", color='red', fill=True)\n",
    "plt.title(region)\n",
    "plt.xlabel(\"Consumption (MW)\")\n",
    "plt.legend() \n",
    "plt.show()"
   ]
  },
  {
   "cell_type": "markdown",
   "id": "fc054c89",
   "metadata": {},
   "source": [
    "5. Répétez la même procédure pour les jours d'hiver (du 22/12 au 21/03), après avoir mis à jour le modèle."
   ]
  },
  {
   "cell_type": "code",
   "execution_count": 15,
   "id": "5a67eb62",
   "metadata": {},
   "outputs": [
    {
     "name": "stdout",
     "output_type": "stream",
     "text": [
      "valeur obtenue pour la moyenne:  2546.536155666579\n",
      "valeur obtenue pour la variance:  365956.0141448174\n"
     ]
    },
    {
     "name": "stderr",
     "output_type": "stream",
     "text": [
      "C:\\Users\\Ulysse\\AppData\\Local\\Temp\\ipykernel_29652\\4068555978.py:4: SettingWithCopyWarning: \n",
      "A value is trying to be set on a copy of a slice from a DataFrame.\n",
      "Try using .loc[row_indexer,col_indexer] = value instead\n",
      "\n",
      "See the caveats in the documentation: https://pandas.pydata.org/pandas-docs/stable/user_guide/indexing.html#returning-a-view-versus-a-copy\n",
      "  df_region[\"date\"] = pd.to_datetime(df_region[\"date\"])\n"
     ]
    },
    {
     "data": {
      "image/png": "[encoded data removed]",
      "text/plain": [
       "<Figure size 640x480 with 1 Axes>"
      ]
     },
     "metadata": {},
     "output_type": "display_data"
    }
   ],
   "source": [
    "df_region_winter = []\n",
    "\n",
    "# On convertit les dates en datetime\n",
    "df_region[\"date\"] = pd.to_datetime(df_region[\"date\"])\n",
    "\n",
    "for year in range(df_region['date'].dt.year.min(), df_region['date'].dt.year.max() + 1):\n",
    "    start_date = pd.to_datetime(f'{year}-12-22')\n",
    "    end_date = pd.to_datetime(f'{year + 1}-03-21')\n",
    "    \n",
    "    df_region_filtered = df_region.loc[(df_region['date'] >= start_date) & (df_region['date'] <= end_date)]\n",
    "    \n",
    "    df_region_winter.append(df_region_filtered)\n",
    "df_region_winter = pd.concat(df_region_winter, ignore_index=True)\n",
    "\n",
    "# Calcul de la moyenne et de la variance\n",
    "mean_Br_Wint = df_region_winter[\"consumption\"].mean()\n",
    "print(\"valeur obtenue pour la moyenne: \",mean_Br)\n",
    "\n",
    "var_Br_Wint = df_region_winter[\"consumption\"].var()\n",
    "print(\"valeur obtenue pour la variance: \", var_Br)\n",
    "\n",
    "new_data_winter = np.random.normal(mean_Br_Wint, np.sqrt(var_Br_Wint), df_region_winter[\"consumption\"].count())\n",
    "\n",
    "sns.kdeplot(data=df_region_winter, x=\"consumption\", label=\"Data\", color='blue', fill=True)\n",
    "sns.kdeplot(data=new_data_winter, label=\"New Data Winter\", color='red', fill=True)\n",
    "plt.title(region)\n",
    "plt.xlabel(\"Consumption (MW)\")\n",
    "plt.legend() \n",
    "plt.show()"
   ]
  },
  {
   "cell_type": "markdown",
   "id": "2c341977",
   "metadata": {},
   "source": [
    "6. Dans quel des cas l'hypothèse gaussienne est plus appropriée ?"
   ]
  },
  {
   "cell_type": "markdown",
   "id": "8d92bc97",
   "metadata": {},
   "source": [
    "On constate que l'hypothèse gaussienne est appropirée quand on se restreint à étudier une saison uniquement."
   ]
  },
  {
   "cell_type": "markdown",
   "id": "3b396ff6",
   "metadata": {},
   "source": [
    "## B. Goodness of fit"
   ]
  },
  {
   "cell_type": "markdown",
   "id": "b5d39610",
   "metadata": {},
   "source": [
    "On souhaite confirmer et quantifier l'observation de la partie A.\n",
    "\n",
    "Nous proposons la mesure de dissimilarité suivante, qui se base sur deux fonctions de répartitions $f$ et $g$:\n",
    "$$\n",
    "d(f, g) = \\frac 1 2 \\int |f(x) - g(x)| \\mathrm dx.\n",
    "$$"
   ]
  },
  {
   "cell_type": "markdown",
   "id": "87b5684d",
   "metadata": {},
   "source": [
    "1. Montrez que $d(f,g) \\in [0,1]$, avec $d(f,g)=0$ si et seulement si $f=g$ presque partout (pour la mesure de Lebesgue) et $d(f,g)=1$ si et seulement si $f$ et $g$ possèdent des supports disjoints."
   ]
  },
  {
   "cell_type": "markdown",
   "id": "397f4544",
   "metadata": {},
   "source": [
    "Votre réponse :"
   ]
  },
  {
   "cell_type": "markdown",
   "id": "ae7d158a",
   "metadata": {},
   "source": [
    "2. Pour la région Bretagne, calculez la dissimilarité entre le *kde* des données réelles et de la densité du modèle gaussien."
   ]
  },
  {
   "cell_type": "code",
   "execution_count": 16,
   "id": "43801814",
   "metadata": {},
   "outputs": [],
   "source": [
    "kde = gaussian_kde(df_region[\"consumption\"])\n",
    "density = gaussian_kde(new_data)\n",
    "\n",
    "# On créer la fonction que l'on veut intégrer\n",
    "inter_fct = lambda x: 0.5 * abs(kde(x) - density(x))\n",
    "\n",
    "# Pour calculer d(f,g) on utilise la méthode des trapèzes\n",
    "x = np.linspace(min(df_region[\"consumption\"].min(), new_data.min()), max(df_region[\"consumption\"].max(), new_data.max()), 10000)\n",
    "dissimilarity = np.trapz(inter_fct(x), x)"
   ]
  },
  {
   "cell_type": "code",
   "execution_count": 17,
   "id": "5e0f4e93",
   "metadata": {},
   "outputs": [
    {
     "data": {
      "text/plain": [
       "0.17200852124904825"
      ]
     },
     "execution_count": 17,
     "metadata": {},
     "output_type": "execute_result"
    }
   ],
   "source": [
    "dissimilarity"
   ]
  },
  {
   "cell_type": "markdown",
   "id": "f8817106",
   "metadata": {},
   "source": [
    "3. Répétez la même procedure pour la région Bretagne en hiver et verifiez votre conclusion de la partie A."
   ]
  },
  {
   "cell_type": "code",
   "execution_count": 18,
   "id": "7b15a902",
   "metadata": {},
   "outputs": [],
   "source": [
    "kde_winter = gaussian_kde(df_region_winter[\"consumption\"])\n",
    "density_winter = gaussian_kde(new_data_winter)\n",
    "\n",
    "# On créer la fonction que l'on veut intégrer\n",
    "inter_fct_winter = lambda x: 0.5 * abs(kde_winter(x) - density_winter(x))\n",
    "\n",
    "# Pour calculer d(f,g) on utilise la méthode des trapèzes\n",
    "x = np.linspace(min(df_region_winter[\"consumption\"].min(), new_data_winter.min()), max(df_region_winter[\"consumption\"].max(), new_data_winter.max()), 10000)\n",
    "dissimilarity_winter =np.trapz(inter_fct_winter(x),x)"
   ]
  },
  {
   "cell_type": "code",
   "execution_count": 19,
   "id": "2a4679ad",
   "metadata": {},
   "outputs": [
    {
     "data": {
      "text/plain": [
       "0.03559949326341716"
      ]
     },
     "execution_count": 19,
     "metadata": {},
     "output_type": "execute_result"
    }
   ],
   "source": [
    "dissimilarity_winter"
   ]
  },
  {
   "cell_type": "markdown",
   "id": "7d78fec0",
   "metadata": {},
   "source": [
    "4. Répétez la même procedure pour toutes régions. Présentez le résultat dans un seul dataframe."
   ]
  },
  {
   "cell_type": "code",
   "execution_count": 38,
   "id": "fef07b23",
   "metadata": {},
   "outputs": [
    {
     "name": "stderr",
     "output_type": "stream",
     "text": [
      "C:\\Users\\Ulysse\\AppData\\Local\\Temp\\ipykernel_29652\\3114778075.py:30: SettingWithCopyWarning: \n",
      "A value is trying to be set on a copy of a slice from a DataFrame.\n",
      "Try using .loc[row_indexer,col_indexer] = value instead\n",
      "\n",
      "See the caveats in the documentation: https://pandas.pydata.org/pandas-docs/stable/user_guide/indexing.html#returning-a-view-versus-a-copy\n",
      "  df_rg[\"date\"] = pd.to_datetime(df_rg[\"date\"])\n",
      "C:\\Users\\Ulysse\\AppData\\Local\\Temp\\ipykernel_29652\\3114778075.py:30: SettingWithCopyWarning: \n",
      "A value is trying to be set on a copy of a slice from a DataFrame.\n",
      "Try using .loc[row_indexer,col_indexer] = value instead\n",
      "\n",
      "See the caveats in the documentation: https://pandas.pydata.org/pandas-docs/stable/user_guide/indexing.html#returning-a-view-versus-a-copy\n",
      "  df_rg[\"date\"] = pd.to_datetime(df_rg[\"date\"])\n",
      "C:\\Users\\Ulysse\\AppData\\Local\\Temp\\ipykernel_29652\\3114778075.py:30: SettingWithCopyWarning: \n",
      "A value is trying to be set on a copy of a slice from a DataFrame.\n",
      "Try using .loc[row_indexer,col_indexer] = value instead\n",
      "\n",
      "See the caveats in the documentation: https://pandas.pydata.org/pandas-docs/stable/user_guide/indexing.html#returning-a-view-versus-a-copy\n",
      "  df_rg[\"date\"] = pd.to_datetime(df_rg[\"date\"])\n",
      "C:\\Users\\Ulysse\\AppData\\Local\\Temp\\ipykernel_29652\\3114778075.py:30: SettingWithCopyWarning: \n",
      "A value is trying to be set on a copy of a slice from a DataFrame.\n",
      "Try using .loc[row_indexer,col_indexer] = value instead\n",
      "\n",
      "See the caveats in the documentation: https://pandas.pydata.org/pandas-docs/stable/user_guide/indexing.html#returning-a-view-versus-a-copy\n",
      "  df_rg[\"date\"] = pd.to_datetime(df_rg[\"date\"])\n",
      "C:\\Users\\Ulysse\\AppData\\Local\\Temp\\ipykernel_29652\\3114778075.py:30: SettingWithCopyWarning: \n",
      "A value is trying to be set on a copy of a slice from a DataFrame.\n",
      "Try using .loc[row_indexer,col_indexer] = value instead\n",
      "\n",
      "See the caveats in the documentation: https://pandas.pydata.org/pandas-docs/stable/user_guide/indexing.html#returning-a-view-versus-a-copy\n",
      "  df_rg[\"date\"] = pd.to_datetime(df_rg[\"date\"])\n",
      "C:\\Users\\Ulysse\\AppData\\Local\\Temp\\ipykernel_29652\\3114778075.py:30: SettingWithCopyWarning: \n",
      "A value is trying to be set on a copy of a slice from a DataFrame.\n",
      "Try using .loc[row_indexer,col_indexer] = value instead\n",
      "\n",
      "See the caveats in the documentation: https://pandas.pydata.org/pandas-docs/stable/user_guide/indexing.html#returning-a-view-versus-a-copy\n",
      "  df_rg[\"date\"] = pd.to_datetime(df_rg[\"date\"])\n",
      "C:\\Users\\Ulysse\\AppData\\Local\\Temp\\ipykernel_29652\\3114778075.py:30: SettingWithCopyWarning: \n",
      "A value is trying to be set on a copy of a slice from a DataFrame.\n",
      "Try using .loc[row_indexer,col_indexer] = value instead\n",
      "\n",
      "See the caveats in the documentation: https://pandas.pydata.org/pandas-docs/stable/user_guide/indexing.html#returning-a-view-versus-a-copy\n",
      "  df_rg[\"date\"] = pd.to_datetime(df_rg[\"date\"])\n",
      "C:\\Users\\Ulysse\\AppData\\Local\\Temp\\ipykernel_29652\\3114778075.py:30: SettingWithCopyWarning: \n",
      "A value is trying to be set on a copy of a slice from a DataFrame.\n",
      "Try using .loc[row_indexer,col_indexer] = value instead\n",
      "\n",
      "See the caveats in the documentation: https://pandas.pydata.org/pandas-docs/stable/user_guide/indexing.html#returning-a-view-versus-a-copy\n",
      "  df_rg[\"date\"] = pd.to_datetime(df_rg[\"date\"])\n",
      "C:\\Users\\Ulysse\\AppData\\Local\\Temp\\ipykernel_29652\\3114778075.py:30: SettingWithCopyWarning: \n",
      "A value is trying to be set on a copy of a slice from a DataFrame.\n",
      "Try using .loc[row_indexer,col_indexer] = value instead\n",
      "\n",
      "See the caveats in the documentation: https://pandas.pydata.org/pandas-docs/stable/user_guide/indexing.html#returning-a-view-versus-a-copy\n",
      "  df_rg[\"date\"] = pd.to_datetime(df_rg[\"date\"])\n",
      "C:\\Users\\Ulysse\\AppData\\Local\\Temp\\ipykernel_29652\\3114778075.py:30: SettingWithCopyWarning: \n",
      "A value is trying to be set on a copy of a slice from a DataFrame.\n",
      "Try using .loc[row_indexer,col_indexer] = value instead\n",
      "\n",
      "See the caveats in the documentation: https://pandas.pydata.org/pandas-docs/stable/user_guide/indexing.html#returning-a-view-versus-a-copy\n",
      "  df_rg[\"date\"] = pd.to_datetime(df_rg[\"date\"])\n",
      "C:\\Users\\Ulysse\\AppData\\Local\\Temp\\ipykernel_29652\\3114778075.py:30: SettingWithCopyWarning: \n",
      "A value is trying to be set on a copy of a slice from a DataFrame.\n",
      "Try using .loc[row_indexer,col_indexer] = value instead\n",
      "\n",
      "See the caveats in the documentation: https://pandas.pydata.org/pandas-docs/stable/user_guide/indexing.html#returning-a-view-versus-a-copy\n",
      "  df_rg[\"date\"] = pd.to_datetime(df_rg[\"date\"])\n",
      "C:\\Users\\Ulysse\\AppData\\Local\\Temp\\ipykernel_29652\\3114778075.py:30: SettingWithCopyWarning: \n",
      "A value is trying to be set on a copy of a slice from a DataFrame.\n",
      "Try using .loc[row_indexer,col_indexer] = value instead\n",
      "\n",
      "See the caveats in the documentation: https://pandas.pydata.org/pandas-docs/stable/user_guide/indexing.html#returning-a-view-versus-a-copy\n",
      "  df_rg[\"date\"] = pd.to_datetime(df_rg[\"date\"])\n",
      "C:\\Users\\Ulysse\\AppData\\Local\\Temp\\ipykernel_29652\\3114778075.py:65: FutureWarning: The behavior of DataFrame concatenation with empty or all-NA entries is deprecated. In a future version, this will no longer exclude empty or all-NA columns when determining the result dtypes. To retain the old behavior, exclude the relevant entries before the concat operation.\n",
      "  df_sim= pd.concat([df_sim, pd.DataFrame([row])])\n"
     ]
    }
   ],
   "source": [
    "dissimilarities = []\n",
    "\n",
    "for region in regions:\n",
    "    df_rg = df[df.region == region]\n",
    "    mean_rg = df_rg[\"consumption\"].mean()\n",
    "    var_rg = df_rg[\"consumption\"].var()\n",
    "    \n",
    "    new_data_rg = np.random.normal(mean_rg, np.sqrt(var_rg), df_rg[\"consumption\"].count())\n",
    "    kde_rg = gaussian_kde(df_rg[\"consumption\"])\n",
    "    density_rg = gaussian_kde(new_data_rg)\n",
    "\n",
    "    # On créer la fonction que l'on veut intégrer\n",
    "    inter_fct_rg = lambda x: 0.5 * abs(kde_rg(x) - density_rg(x))\n",
    "\n",
    "    # Pour calculer d(f,g) on utilise la méthode des trapèzes\n",
    "    x = np.linspace(min(df_rg[\"consumption\"].min(), new_data_rg.min()), max(df_rg[\"consumption\"].max(), new_data_rg.max()), 1000)\n",
    "    dissimilarity_rg = np.trapz(inter_fct_rg(x), x)\n",
    "    dissimilarities.append(dissimilarity_rg)\n",
    "\n",
    "#dissimilarities = pd.DataFrame(dissimilarities, columns=['dissimilarity'])\n",
    "\n",
    "dissimilarities_winter = []\n",
    "\n",
    "for region in regions:\n",
    "    \n",
    "    df_rg = df[df.region == region]\n",
    "    df_rg_winter = []\n",
    "\n",
    "    # On convertit les dates en datetime\n",
    "    df_rg[\"date\"] = pd.to_datetime(df_rg[\"date\"])\n",
    "\n",
    "    for year in range(df_rg['date'].dt.year.min(), df_rg['date'].dt.year.max() + 1):\n",
    "        start_date = pd.to_datetime(f'{year}-12-22')\n",
    "        end_date = pd.to_datetime(f'{year + 1}-03-21')\n",
    "        \n",
    "        df_rg_filtered = df_rg.loc[(df_rg['date'] >= start_date) & (df_rg['date'] <= end_date)]\n",
    "        \n",
    "        df_rg_winter.append(df_rg_filtered)\n",
    "\n",
    "    df_rg_winter = pd.concat(df_rg_winter, ignore_index=True)   \n",
    "    mean_rg_winter = df_rg_winter[\"consumption\"].mean()\n",
    "    var_rg_winter = df_rg_winter[\"consumption\"].var()\n",
    "    \n",
    "    new_data_rg_winter = np.random.normal(mean_rg_winter, np.sqrt(var_rg_winter), df_rg_winter[\"consumption\"].count())\n",
    "    kde_rg_winter = gaussian_kde(df_rg_winter[\"consumption\"])\n",
    "    density_rg_winter = gaussian_kde(new_data_rg_winter)\n",
    "\n",
    "    # On créer la fonction que l'on veut intégrer\n",
    "    inter_fct_rg_winter = lambda x: 0.5 * abs(kde_rg_winter(x) - density_rg_winter(x))\n",
    "\n",
    "    # Pour calculer d(f,g) on utilise la méthode des trapèzes\n",
    "    x = np.linspace(min(df_rg_winter[\"consumption\"].min(), new_data_rg_winter.min()), max(df_rg_winter[\"consumption\"].max(), new_data_rg_winter.max()), 1000)\n",
    "    dissimilarity_rg_winter = np.trapz(inter_fct_rg_winter(x), x)\n",
    "    dissimilarities_winter.append(dissimilarity_rg_winter)\n",
    "\n",
    "#dissimilarities_winter = pd.DataFrame(dissimilarities_winter, columns=['winter_dissimilarity'])\n",
    "\n",
    "#dissimilarities_merged = pd.concat([pd.DataFrame(regions, columns=['regions']),dissimilarities, dissimilarities_winter], ignore_index=True)\n",
    "\n",
    "#On créer le DataFrame final\n",
    "df_sim = pd.DataFrame(columns=['regions','dissimilarities','winter_dissimilarities'])\n",
    "\n",
    "for i,region in enumerate(regions):\n",
    "    row = {'regions': region, 'dissimilarities': dissimilarities[i], 'winter_dissimilarities': dissimilarities_winter[i]}\n",
    "    df_sim= pd.concat([df_sim, pd.DataFrame([row])])\n",
    "\n",
    "#On rajoute des indices aux lignes\n",
    "df_sim = df_sim.reset_index(drop=True)"
   ]
  },
  {
   "cell_type": "code",
   "execution_count": 39,
   "id": "cf5dc541",
   "metadata": {},
   "outputs": [
    {
     "data": {
      "text/html": [
       "<div>\n",
       "<style scoped>\n",
       "    .dataframe tbody tr th:only-of-type {\n",
       "        vertical-align: middle;\n",
       "    }\n",
       "\n",
       "    .dataframe tbody tr th {\n",
       "        vertical-align: top;\n",
       "    }\n",
       "\n",
       "    .dataframe thead th {\n",
       "        text-align: right;\n",
       "    }\n",
       "</style>\n",
       "<table border=\"1\" class=\"dataframe\">\n",
       "  <thead>\n",
       "    <tr style=\"text-align: right;\">\n",
       "      <th></th>\n",
       "      <th>regions</th>\n",
       "      <th>dissimilarities</th>\n",
       "      <th>winter_dissimilarities</th>\n",
       "    </tr>\n",
       "  </thead>\n",
       "  <tbody>\n",
       "    <tr>\n",
       "      <th>0</th>\n",
       "      <td>Auvergne-Rhône-Alpes</td>\n",
       "      <td>0.168951</td>\n",
       "      <td>0.033189</td>\n",
       "    </tr>\n",
       "    <tr>\n",
       "      <th>1</th>\n",
       "      <td>Bourgogne-Franche-Comté</td>\n",
       "      <td>0.121050</td>\n",
       "      <td>0.023918</td>\n",
       "    </tr>\n",
       "    <tr>\n",
       "      <th>2</th>\n",
       "      <td>Bretagne</td>\n",
       "      <td>0.182221</td>\n",
       "      <td>0.026368</td>\n",
       "    </tr>\n",
       "    <tr>\n",
       "      <th>3</th>\n",
       "      <td>Centre-Val de Loire</td>\n",
       "      <td>0.183403</td>\n",
       "      <td>0.053978</td>\n",
       "    </tr>\n",
       "    <tr>\n",
       "      <th>4</th>\n",
       "      <td>Grand Est</td>\n",
       "      <td>0.120259</td>\n",
       "      <td>0.026566</td>\n",
       "    </tr>\n",
       "    <tr>\n",
       "      <th>5</th>\n",
       "      <td>Hauts-de-France</td>\n",
       "      <td>0.126148</td>\n",
       "      <td>0.031135</td>\n",
       "    </tr>\n",
       "    <tr>\n",
       "      <th>6</th>\n",
       "      <td>Normandie</td>\n",
       "      <td>0.169997</td>\n",
       "      <td>0.031676</td>\n",
       "    </tr>\n",
       "    <tr>\n",
       "      <th>7</th>\n",
       "      <td>Nouvelle-Aquitaine</td>\n",
       "      <td>0.210989</td>\n",
       "      <td>0.069830</td>\n",
       "    </tr>\n",
       "    <tr>\n",
       "      <th>8</th>\n",
       "      <td>Occitanie</td>\n",
       "      <td>0.221368</td>\n",
       "      <td>0.074947</td>\n",
       "    </tr>\n",
       "    <tr>\n",
       "      <th>9</th>\n",
       "      <td>Pays de la Loire</td>\n",
       "      <td>0.175585</td>\n",
       "      <td>0.033954</td>\n",
       "    </tr>\n",
       "    <tr>\n",
       "      <th>10</th>\n",
       "      <td>Provence-Alpes-Côte d'Azur</td>\n",
       "      <td>0.223275</td>\n",
       "      <td>0.041780</td>\n",
       "    </tr>\n",
       "    <tr>\n",
       "      <th>11</th>\n",
       "      <td>Île-de-France</td>\n",
       "      <td>0.171208</td>\n",
       "      <td>0.043919</td>\n",
       "    </tr>\n",
       "  </tbody>\n",
       "</table>\n",
       "</div>"
      ],
      "text/plain": [
       "                       regions  dissimilarities  winter_dissimilarities\n",
       "0         Auvergne-Rhône-Alpes         0.168951                0.033189\n",
       "1      Bourgogne-Franche-Comté         0.121050                0.023918\n",
       "2                     Bretagne         0.182221                0.026368\n",
       "3          Centre-Val de Loire         0.183403                0.053978\n",
       "4                    Grand Est         0.120259                0.026566\n",
       "5              Hauts-de-France         0.126148                0.031135\n",
       "6                    Normandie         0.169997                0.031676\n",
       "7           Nouvelle-Aquitaine         0.210989                0.069830\n",
       "8                    Occitanie         0.221368                0.074947\n",
       "9             Pays de la Loire         0.175585                0.033954\n",
       "10  Provence-Alpes-Côte d'Azur         0.223275                0.041780\n",
       "11               Île-de-France         0.171208                0.043919"
      ]
     },
     "execution_count": 39,
     "metadata": {},
     "output_type": "execute_result"
    }
   ],
   "source": [
    "df_sim"
   ]
  },
  {
   "cell_type": "markdown",
   "id": "3f0d3f61",
   "metadata": {},
   "source": [
    "5. Quelle région a le meilleur *fit* avel le modèle gaussien en hiver ?"
   ]
  },
  {
   "cell_type": "code",
   "execution_count": 40,
   "id": "251b89b1",
   "metadata": {},
   "outputs": [
    {
     "name": "stdout",
     "output_type": "stream",
     "text": [
      "La région Bourgogne-Franche-Comté a le plus petit fit avec le modèle gaussien ( 0.02391761335421841 )\n"
     ]
    }
   ],
   "source": [
    "best_fit_winter = df_sim['winter_dissimilarities'].min()\n",
    "best_fit_winter_id = df_sim['winter_dissimilarities'].idxmin()\n",
    "region_best_fit_winter = df_sim.loc[best_fit_winter_id]\n",
    "print(\"La région\", region_best_fit_winter[\"regions\"],\"a le plus petit fit avec le modèle gaussien (\", best_fit_winter,\")\")\n"
   ]
  },
  {
   "cell_type": "markdown",
   "id": "aff086e4",
   "metadata": {},
   "source": [
    "6. Pour cette région et saison, tracez le *kde* des données réelles et le *kde* des données générées sur le même graphique."
   ]
  },
  {
   "cell_type": "code",
   "execution_count": 50,
   "id": "d61bb84e",
   "metadata": {},
   "outputs": [
    {
     "name": "stderr",
     "output_type": "stream",
     "text": [
      "C:\\Users\\Ulysse\\AppData\\Local\\Temp\\ipykernel_29652\\4200522788.py:4: SettingWithCopyWarning: \n",
      "A value is trying to be set on a copy of a slice from a DataFrame.\n",
      "Try using .loc[row_indexer,col_indexer] = value instead\n",
      "\n",
      "See the caveats in the documentation: https://pandas.pydata.org/pandas-docs/stable/user_guide/indexing.html#returning-a-view-versus-a-copy\n",
      "  df_region_best_fit[\"date\"] = pd.to_datetime(df_region_best_fit[\"date\"])\n"
     ]
    },
    {
     "data": {
      "image/png": "[encoded data removed]",
      "text/plain": [
       "<Figure size 640x480 with 1 Axes>"
      ]
     },
     "metadata": {},
     "output_type": "display_data"
    }
   ],
   "source": [
    "df_region_best_fit = df[df[\"region\"] == region_best_fit_winter[\"regions\"]]\n",
    "df_region_winter_best_fit = []\n",
    "# On convertit les dates en datetime\n",
    "df_region_best_fit[\"date\"] = pd.to_datetime(df_region_best_fit[\"date\"])\n",
    "\n",
    "for year in range(df_region_best_fit['date'].dt.year.min(), df_region_best_fit['date'].dt.year.max() + 1):\n",
    "    start_date = pd.to_datetime(f'{year}-12-22')\n",
    "    end_date = pd.to_datetime(f'{year + 1}-03-21')\n",
    "    \n",
    "    df_region_filtered_best_fit = df_region_best_fit.loc[(df_region_best_fit['date'] >= start_date) & (df_region_best_fit['date'] <= end_date)]\n",
    "    \n",
    "    df_region_winter_best_fit.append(df_region_filtered_best_fit)\n",
    "df_region_winter_best_fit = pd.concat(df_region_winter_best_fit, ignore_index=True)\n",
    "\n",
    "# Calcul de la moyenne et de la variance\n",
    "mean_Br_Wint_best_fit = df_region_winter_best_fit[\"consumption\"].mean()\n",
    "var_Br_Wint_best_fit = df_region_winter_best_fit[\"consumption\"].var()\n",
    "\n",
    "new_data_winter_best_fit = np.random.normal(mean_Br_Wint_best_fit, np.sqrt(var_Br_Wint_best_fit), df_region_winter_best_fit[\"consumption\"].count())\n",
    "\n",
    "sns.kdeplot(data=df_region_winter_best_fit, x=\"consumption\", label=\"Data\", color='blue', fill=True)\n",
    "sns.kdeplot(data=new_data_winter_best_fit, label=\"Generated Data\", color='red', fill=True)\n",
    "plt.title(region_best_fit_winter[\"regions\"])\n",
    "plt.xlabel(\"Consumption (MW)\")\n",
    "plt.legend() \n",
    "plt.show()\n",
    "\n"
   ]
  },
  {
   "cell_type": "markdown",
   "id": "838fb2d1",
   "metadata": {},
   "source": [
    "## C. Statistique bayésienne"
   ]
  },
  {
   "cell_type": "markdown",
   "id": "92daddb8",
   "metadata": {},
   "source": [
    "On souhaite inclure la connaissance a priori sur l'estimation, en utilisant la statistique bayésienne.\n",
    "\n",
    "Considérez la région Bretagne en hiver. On se focalise sur la moyenne $\\mu$, en supposant que l'écart-type est connu et egal à $\\sigma=400$MW. Supposons la loi a priori sur $\\mu$ avec moyenne $\\mu_0=3500$MW et l'écart-type $\\sigma_0=500$MW.\n",
    "\n",
    "1. Donnez la loi a posteriori pour $\\mu$, en utilisant les paramètres $\\sigma$, $\\mu_0$, $\\sigma_0$ et $n$ observations $x_1,\\ldots,x_n$."
   ]
  },
  {
   "cell_type": "markdown",
   "id": "2d66e4b9",
   "metadata": {},
   "source": [
    "Votre réponse :"
   ]
  },
  {
   "cell_type": "markdown",
   "id": "9ce2daad",
   "metadata": {},
   "source": [
    "2. Donnez les paramètres de la loi a posteriori obtenue pour chaque année de 2013 au 2023, considérée independament, dans un seul dataframe."
   ]
  },
  {
   "cell_type": "code",
   "execution_count": null,
   "id": "74439986",
   "metadata": {},
   "outputs": [],
   "source": []
  },
  {
   "cell_type": "markdown",
   "id": "34e7e53f",
   "metadata": {},
   "source": [
    "3. Tracez la densité de la loi a posteriori en 2023 et le *kde* des données réelles en 2023, sur le même graphique."
   ]
  },
  {
   "cell_type": "code",
   "execution_count": null,
   "id": "eb02344e",
   "metadata": {},
   "outputs": [],
   "source": []
  },
  {
   "cell_type": "markdown",
   "id": "34f2f990",
   "metadata": {},
   "source": [
    "4. Discutez les résultats, en les comparant avec ceux obtenus dans la partie A."
   ]
  },
  {
   "cell_type": "markdown",
   "id": "b636cd1b",
   "metadata": {},
   "source": [
    "Votre réponse :"
   ]
  },
  {
   "cell_type": "markdown",
   "id": "fbb2395b",
   "metadata": {},
   "source": [
    "## D. Test d'hypothèse"
   ]
  },
  {
   "cell_type": "markdown",
   "id": "9829b730",
   "metadata": {},
   "source": [
    "Considérez la région Bretagne. Alors que l'écart-type en hiver est egal à 400MW, vous shouaitez tester l'hypothèse que c'était 500MW en 2023. La moyenne est supposée connue et egal à 3200MW.\n",
    "\n",
    "1. Proposez la statisque du test pour un niveau $\\alpha$."
   ]
  },
  {
   "cell_type": "markdown",
   "id": "eabddc9c",
   "metadata": {},
   "source": [
    "Votre réponse :"
   ]
  },
  {
   "cell_type": "markdown",
   "id": "7d66ab40",
   "metadata": {},
   "source": [
    "2. Donnez le résultat de ce test pour $\\alpha=1\\%$."
   ]
  },
  {
   "cell_type": "code",
   "execution_count": null,
   "id": "5e961bfd",
   "metadata": {},
   "outputs": [],
   "source": []
  },
  {
   "cell_type": "markdown",
   "id": "a59a2a96",
   "metadata": {},
   "source": [
    "## E. Test d'indépendence"
   ]
  },
  {
   "cell_type": "markdown",
   "id": "a71cf918",
   "metadata": {},
   "source": [
    "Considérez la consomation d'electicité en Bretagne et en Provence-Alpes-Côte d'Azur en hiver."
   ]
  },
  {
   "cell_type": "markdown",
   "id": "a7c78215",
   "metadata": {},
   "source": [
    "1. Visualisez la loi jointe de la consomation dans ces 2 régions en utilisant la librarie **seaborn**."
   ]
  },
  {
   "cell_type": "code",
   "execution_count": null,
   "id": "29b4c335",
   "metadata": {},
   "outputs": [],
   "source": []
  },
  {
   "cell_type": "markdown",
   "id": "a30a20bc",
   "metadata": {},
   "source": [
    "2. Est-ce que vous pensez que la consomation dans ces 2 régions est indépendante ?"
   ]
  },
  {
   "cell_type": "markdown",
   "id": "bedb9130",
   "metadata": {},
   "source": [
    "Votre réponse :"
   ]
  },
  {
   "cell_type": "markdown",
   "id": "164f9b1c",
   "metadata": {},
   "source": [
    "3. Proposez le test du Chi-2 pour l'indépendance de la consomation dans ces deux régions pour un niveau $\\alpha$. "
   ]
  },
  {
   "cell_type": "markdown",
   "id": "f079fecb",
   "metadata": {},
   "source": [
    "Votre réponse :"
   ]
  },
  {
   "cell_type": "markdown",
   "id": "50a23229",
   "metadata": {},
   "source": [
    "4. Donnez le résultat de ce test pour $\\alpha=1\\%$."
   ]
  },
  {
   "cell_type": "code",
   "execution_count": null,
   "id": "5e744874",
   "metadata": {},
   "outputs": [],
   "source": []
  },
  {
   "cell_type": "markdown",
   "id": "339d7f64",
   "metadata": {},
   "source": [
    "## F. Intervalle de confiance"
   ]
  },
  {
   "cell_type": "markdown",
   "id": "1c957e74",
   "metadata": {},
   "source": [
    "Considérez la région Bretagne en hiver.\n",
    "\n",
    "1. Donnez l'intervalle de confiance pour un niveau $\\alpha=95\\%$ pour la moyenne consomation d'electricité."
   ]
  },
  {
   "cell_type": "code",
   "execution_count": null,
   "id": "cd6315e4",
   "metadata": {},
   "outputs": [],
   "source": []
  },
  {
   "cell_type": "markdown",
   "id": "8490c8fa",
   "metadata": {},
   "source": [
    "2. Donnez le résultat du test de Student pour un niveau $5\\%$ pour l'hypothèse null que la moyenne consomation en 2023 est egal à 3100MW."
   ]
  },
  {
   "cell_type": "code",
   "execution_count": null,
   "id": "547fb138",
   "metadata": {},
   "outputs": [],
   "source": []
  }
 ],
 "metadata": {
  "kernelspec": {
   "display_name": "Python 3 (ipykernel)",
   "language": "python",
   "name": "python3"
  },
  "language_info": {
   "codemirror_mode": {
    "name": "ipython",
    "version": 3
   },
   "file_extension": ".py",
   "mimetype": "text/x-python",
   "name": "python",
   "nbconvert_exporter": "python",
   "pygments_lexer": "ipython3",
   "version": "3.11.1"
  }
 },
 "nbformat": 4,
 "nbformat_minor": 5
}
